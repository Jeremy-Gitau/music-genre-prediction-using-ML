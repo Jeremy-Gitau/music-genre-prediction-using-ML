{
 "cells": [
  {
   "cell_type": "code",
   "execution_count": 2,
   "id": "bc284fcf",
   "metadata": {},
   "outputs": [],
   "source": [
    "import pandas as pd\n",
    "import matplotlib.pyplot as plt\n",
    "from sklearn.metrics import accuracy_score\n",
    "from sklearn.tree import DecisionTreeClassifier\n",
    "from sklearn.model_selection import train_test_split"
   ]
  },
  {
   "cell_type": "code",
   "execution_count": 3,
   "id": "1e0293f8",
   "metadata": {},
   "outputs": [],
   "source": [
    "from sklearn.linear_model import LogisticRegression\n",
    "from sklearn.linear_model import LinearRegression\n",
    "from sklearn.ensemble import RandomForestClassifier\n",
    "from sklearn.neighbors import KNeighborsClassifier"
   ]
  },
  {
   "cell_type": "code",
   "execution_count": 4,
   "id": "1448deab",
   "metadata": {
    "scrolled": false
   },
   "outputs": [],
   "source": [
    "dataset = pd.read_csv('music.csv')"
   ]
  },
  {
   "cell_type": "code",
   "execution_count": 5,
   "id": "884b97ea",
   "metadata": {},
   "outputs": [
    {
     "data": {
      "text/html": [
       "<div>\n",
       "<style scoped>\n",
       "    .dataframe tbody tr th:only-of-type {\n",
       "        vertical-align: middle;\n",
       "    }\n",
       "\n",
       "    .dataframe tbody tr th {\n",
       "        vertical-align: top;\n",
       "    }\n",
       "\n",
       "    .dataframe thead th {\n",
       "        text-align: right;\n",
       "    }\n",
       "</style>\n",
       "<table border=\"1\" class=\"dataframe\">\n",
       "  <thead>\n",
       "    <tr style=\"text-align: right;\">\n",
       "      <th></th>\n",
       "      <th>age</th>\n",
       "      <th>gender</th>\n",
       "      <th>genre</th>\n",
       "    </tr>\n",
       "  </thead>\n",
       "  <tbody>\n",
       "    <tr>\n",
       "      <th>0</th>\n",
       "      <td>20</td>\n",
       "      <td>1</td>\n",
       "      <td>HipHop</td>\n",
       "    </tr>\n",
       "    <tr>\n",
       "      <th>1</th>\n",
       "      <td>23</td>\n",
       "      <td>1</td>\n",
       "      <td>HipHop</td>\n",
       "    </tr>\n",
       "  </tbody>\n",
       "</table>\n",
       "</div>"
      ],
      "text/plain": [
       "   age  gender   genre\n",
       "0   20       1  HipHop\n",
       "1   23       1  HipHop"
      ]
     },
     "execution_count": 5,
     "metadata": {},
     "output_type": "execute_result"
    }
   ],
   "source": [
    "dataset.head(2)"
   ]
  },
  {
   "cell_type": "code",
   "execution_count": 6,
   "id": "4c839485",
   "metadata": {},
   "outputs": [],
   "source": [
    "X = dataset.drop(columns=\"genre\")\n",
    "Y = dataset[\"genre\"]"
   ]
  },
  {
   "cell_type": "code",
   "execution_count": 7,
   "id": "d0453324",
   "metadata": {},
   "outputs": [
    {
     "data": {
      "text/html": [
       "<div>\n",
       "<style scoped>\n",
       "    .dataframe tbody tr th:only-of-type {\n",
       "        vertical-align: middle;\n",
       "    }\n",
       "\n",
       "    .dataframe tbody tr th {\n",
       "        vertical-align: top;\n",
       "    }\n",
       "\n",
       "    .dataframe thead th {\n",
       "        text-align: right;\n",
       "    }\n",
       "</style>\n",
       "<table border=\"1\" class=\"dataframe\">\n",
       "  <thead>\n",
       "    <tr style=\"text-align: right;\">\n",
       "      <th></th>\n",
       "      <th>age</th>\n",
       "      <th>gender</th>\n",
       "    </tr>\n",
       "  </thead>\n",
       "  <tbody>\n",
       "    <tr>\n",
       "      <th>0</th>\n",
       "      <td>20</td>\n",
       "      <td>1</td>\n",
       "    </tr>\n",
       "    <tr>\n",
       "      <th>1</th>\n",
       "      <td>23</td>\n",
       "      <td>1</td>\n",
       "    </tr>\n",
       "    <tr>\n",
       "      <th>2</th>\n",
       "      <td>25</td>\n",
       "      <td>1</td>\n",
       "    </tr>\n",
       "  </tbody>\n",
       "</table>\n",
       "</div>"
      ],
      "text/plain": [
       "   age  gender\n",
       "0   20       1\n",
       "1   23       1\n",
       "2   25       1"
      ]
     },
     "execution_count": 7,
     "metadata": {},
     "output_type": "execute_result"
    }
   ],
   "source": [
    "X.head(3)"
   ]
  },
  {
   "cell_type": "code",
   "execution_count": 8,
   "id": "mighty-system",
   "metadata": {},
   "outputs": [
    {
     "data": {
      "image/png": "[encoded data removed]",
      "text/plain": [
       "<Figure size 640x480 with 1 Axes>"
      ]
     },
     "metadata": {},
     "output_type": "display_data"
    }
   ],
   "source": [
    "plt.plot(X,Y)\n",
    "plt.show()"
   ]
  },
  {
   "cell_type": "code",
   "execution_count": 9,
   "id": "dc7505a0",
   "metadata": {},
   "outputs": [],
   "source": [
    "\n",
    "X_train, X_test, y_train, y_test = train_test_split(X, Y, test_size=0.3, random_state=0)\n"
   ]
  },
  {
   "cell_type": "code",
   "execution_count": 13,
   "id": "060cfbd2",
   "metadata": {},
   "outputs": [
    {
     "data": {
      "text/plain": [
       "1.0"
      ]
     },
     "execution_count": 13,
     "metadata": {},
     "output_type": "execute_result"
    }
   ],
   "source": [
    "model = DecisionTreeClassifier()\n",
    "model.fit(X_train,y_train)\n",
    "prediction = model.predict(X_test)\n",
    "accuracy = accuracy_score(prediction,y_test)\n",
    "accuracy"
   ]
  },
  {
   "cell_type": "code",
   "execution_count": 14,
   "id": "fb4c42c6",
   "metadata": {},
   "outputs": [
    {
     "name": "stderr",
     "output_type": "stream",
     "text": [
      "C:\\Users\\hp\\anaconda3\\envs\\tensorflow-env\\lib\\site-packages\\sklearn\\base.py:450: UserWarning: X does not have valid feature names, but DecisionTreeClassifier was fitted with feature names\n",
      "  warnings.warn(\n"
     ]
    },
    {
     "data": {
      "text/plain": [
       "array(['HipHop', 'Dance'], dtype=object)"
      ]
     },
     "execution_count": 14,
     "metadata": {},
     "output_type": "execute_result"
    }
   ],
   "source": [
    "model.predict([[21,1],[22,0]])"
   ]
  },
  {
   "cell_type": "code",
   "execution_count": 15,
   "id": "301a7cf2",
   "metadata": {},
   "outputs": [
    {
     "data": {
      "text/plain": [
       "0.5"
      ]
     },
     "execution_count": 15,
     "metadata": {},
     "output_type": "execute_result"
    }
   ],
   "source": [
    "model = KNeighborsClassifier()\n",
    "predictions=model.fit(X_train,y_train)\n",
    "prediction = model.predict(X_test)\n",
    "accuracy = accuracy_score(prediction,y_test)\n",
    "accuracy"
   ]
  },
  {
   "cell_type": "code",
   "execution_count": 16,
   "id": "1de7d1a8",
   "metadata": {},
   "outputs": [
    {
     "name": "stderr",
     "output_type": "stream",
     "text": [
      "C:\\Users\\hp\\anaconda3\\envs\\tensorflow-env\\lib\\site-packages\\sklearn\\base.py:450: UserWarning: X does not have valid feature names, but KNeighborsClassifier was fitted with feature names\n",
      "  warnings.warn(\n"
     ]
    },
    {
     "data": {
      "text/plain": [
       "array(['Dance', 'Dance'], dtype=object)"
      ]
     },
     "execution_count": 16,
     "metadata": {},
     "output_type": "execute_result"
    }
   ],
   "source": [
    "\n",
    "model.predict([[21,1],[22,0]])"
   ]
  },
  {
   "cell_type": "code",
   "execution_count": 18,
   "id": "781bb7a1",
   "metadata": {},
   "outputs": [
    {
     "name": "stderr",
     "output_type": "stream",
     "text": [
      "C:\\Users\\hp\\anaconda3\\envs\\tensorflow-env\\lib\\site-packages\\sklearn\\linear_model\\_logistic.py:814: ConvergenceWarning: lbfgs failed to converge (status=1):\n",
      "STOP: TOTAL NO. of ITERATIONS REACHED LIMIT.\n",
      "\n",
      "Increase the number of iterations (max_iter) or scale the data as shown in:\n",
      "    https://scikit-learn.org/stable/modules/preprocessing.html\n",
      "Please also refer to the documentation for alternative solver options:\n",
      "    https://scikit-learn.org/stable/modules/linear_model.html#logistic-regression\n",
      "  n_iter_i = _check_optimize_result(\n"
     ]
    },
    {
     "data": {
      "text/plain": [
       "0.8333333333333334"
      ]
     },
     "execution_count": 18,
     "metadata": {},
     "output_type": "execute_result"
    }
   ],
   "source": [
    "model = LogisticRegression()\n",
    "model.fit(X_train,y_train)\n",
    "prediction = model.predict(X_test)\n",
    "accuracy = accuracy_score(prediction,y_test)\n",
    "accuracy"
   ]
  },
  {
   "cell_type": "code",
   "execution_count": 19,
   "id": "869c2a89",
   "metadata": {},
   "outputs": [
    {
     "name": "stderr",
     "output_type": "stream",
     "text": [
      "C:\\Users\\hp\\anaconda3\\envs\\tensorflow-env\\lib\\site-packages\\sklearn\\base.py:450: UserWarning: X does not have valid feature names, but LogisticRegression was fitted with feature names\n",
      "  warnings.warn(\n"
     ]
    },
    {
     "data": {
      "text/plain": [
       "array(['HipHop', 'Dance'], dtype=object)"
      ]
     },
     "execution_count": 19,
     "metadata": {},
     "output_type": "execute_result"
    }
   ],
   "source": [
    "model.predict([[21,1],[22,0]])"
   ]
  },
  {
   "cell_type": "code",
   "execution_count": 20,
   "id": "82cc3752",
   "metadata": {},
   "outputs": [
    {
     "data": {
      "text/plain": [
       "0.8333333333333334"
      ]
     },
     "execution_count": 20,
     "metadata": {},
     "output_type": "execute_result"
    }
   ],
   "source": [
    "model = RandomForestClassifier()\n",
    "model.fit(X_train,y_train)\n",
    "\n",
    "prediction = model.predict(X_test)\n",
    "accuracy = accuracy_score(prediction,y_test)\n",
    "accuracy"
   ]
  },
  {
   "cell_type": "code",
   "execution_count": 21,
   "id": "a0845307",
   "metadata": {},
   "outputs": [
    {
     "name": "stderr",
     "output_type": "stream",
     "text": [
      "C:\\Users\\hp\\anaconda3\\envs\\tensorflow-env\\lib\\site-packages\\sklearn\\base.py:450: UserWarning: X does not have valid feature names, but RandomForestClassifier was fitted with feature names\n",
      "  warnings.warn(\n"
     ]
    },
    {
     "data": {
      "text/plain": [
       "array(['HipHop', 'Dance'], dtype=object)"
      ]
     },
     "execution_count": 21,
     "metadata": {},
     "output_type": "execute_result"
    }
   ],
   "source": [
    "model.predict([[21,1],[22,0]])"
   ]
  },
  {
   "cell_type": "code",
   "execution_count": 22,
   "id": "8c8caf9d",
   "metadata": {},
   "outputs": [
    {
     "data": {
      "text/plain": [
       "0.5"
      ]
     },
     "execution_count": 22,
     "metadata": {},
     "output_type": "execute_result"
    }
   ],
   "source": [
    "model = KNeighborsClassifier()\n",
    "model.fit(X_train,y_train)\n",
    "prediction = model.predict(X_test)\n",
    "accuracy = accuracy_score(prediction,y_test)\n",
    "accuracy"
   ]
  },
  {
   "cell_type": "code",
   "execution_count": 24,
   "id": "336d8ca3",
   "metadata": {},
   "outputs": [
    {
     "name": "stderr",
     "output_type": "stream",
     "text": [
      "C:\\Users\\hp\\anaconda3\\envs\\tensorflow-env\\lib\\site-packages\\sklearn\\base.py:450: UserWarning: X does not have valid feature names, but KNeighborsClassifier was fitted with feature names\n",
      "  warnings.warn(\n"
     ]
    },
    {
     "data": {
      "text/plain": [
       "array(['Dance', 'Dance'], dtype=object)"
      ]
     },
     "execution_count": 24,
     "metadata": {},
     "output_type": "execute_result"
    }
   ],
   "source": [
    "model.predict([[21,1],[22,0]])\n"
   ]
  },
  {
   "cell_type": "code",
   "execution_count": 28,
   "id": "cb5117a3",
   "metadata": {},
   "outputs": [],
   "source": [
    "import gradio as gr"
   ]
  },
  {
   "cell_type": "code",
   "execution_count": 29,
   "id": "bbcd0691",
   "metadata": {},
   "outputs": [
    {
     "name": "stderr",
     "output_type": "stream",
     "text": [
      "ERROR:    Exception in ASGI application\n",
      "Traceback (most recent call last):\n",
      "  File \"C:\\Users\\hp\\anaconda3\\envs\\tensorflow-env\\lib\\site-packages\\uvicorn\\protocols\\http\\h11_impl.py\", line 373, in run_asgi\n",
      "    result = await app(self.scope, self.receive, self.send)\n",
      "  File \"C:\\Users\\hp\\anaconda3\\envs\\tensorflow-env\\lib\\site-packages\\uvicorn\\middleware\\proxy_headers.py\", line 75, in __call__\n",
      "    return await self.app(scope, receive, send)\n",
      "  File \"C:\\Users\\hp\\anaconda3\\envs\\tensorflow-env\\lib\\site-packages\\fastapi\\applications.py\", line 212, in __call__\n",
      "    await super().__call__(scope, receive, send)\n",
      "  File \"C:\\Users\\hp\\anaconda3\\envs\\tensorflow-env\\lib\\site-packages\\starlette\\applications.py\", line 112, in __call__\n",
      "    await self.middleware_stack(scope, receive, send)\n",
      "  File \"C:\\Users\\hp\\anaconda3\\envs\\tensorflow-env\\lib\\site-packages\\starlette\\middleware\\errors.py\", line 181, in __call__\n",
      "    raise exc\n",
      "  File \"C:\\Users\\hp\\anaconda3\\envs\\tensorflow-env\\lib\\site-packages\\starlette\\middleware\\errors.py\", line 159, in __call__\n",
      "    await self.app(scope, receive, _send)\n",
      "  File \"C:\\Users\\hp\\anaconda3\\envs\\tensorflow-env\\lib\\site-packages\\starlette\\middleware\\cors.py\", line 84, in __call__\n",
      "    await self.app(scope, receive, send)\n",
      "  File \"C:\\Users\\hp\\anaconda3\\envs\\tensorflow-env\\lib\\site-packages\\starlette\\exceptions.py\", line 82, in __call__\n",
      "    raise exc\n",
      "  File \"C:\\Users\\hp\\anaconda3\\envs\\tensorflow-env\\lib\\site-packages\\starlette\\exceptions.py\", line 71, in __call__\n",
      "    await self.app(scope, receive, sender)\n",
      "  File \"C:\\Users\\hp\\anaconda3\\envs\\tensorflow-env\\lib\\site-packages\\starlette\\routing.py\", line 656, in __call__\n",
      "    await route.handle(scope, receive, send)\n",
      "  File \"C:\\Users\\hp\\anaconda3\\envs\\tensorflow-env\\lib\\site-packages\\starlette\\routing.py\", line 259, in handle\n",
      "    await self.app(scope, receive, send)\n",
      "  File \"C:\\Users\\hp\\anaconda3\\envs\\tensorflow-env\\lib\\site-packages\\starlette\\routing.py\", line 61, in app\n",
      "    response = await func(request)\n",
      "  File \"C:\\Users\\hp\\anaconda3\\envs\\tensorflow-env\\lib\\site-packages\\fastapi\\routing.py\", line 216, in app\n",
      "    solved_result = await solve_dependencies(\n",
      "  File \"C:\\Users\\hp\\anaconda3\\envs\\tensorflow-env\\lib\\site-packages\\fastapi\\dependencies\\utils.py\", line 529, in solve_dependencies\n",
      "    solved = await run_in_threadpool(call, **sub_values)\n",
      "  File \"C:\\Users\\hp\\anaconda3\\envs\\tensorflow-env\\lib\\site-packages\\starlette\\concurrency.py\", line 39, in run_in_threadpool\n",
      "    return await anyio.to_thread.run_sync(func, *args)\n",
      "AttributeError: module 'anyio' has no attribute 'to_thread'\n",
      "ERROR:    Exception in ASGI application\n",
      "Traceback (most recent call last):\n",
      "  File \"C:\\Users\\hp\\anaconda3\\envs\\tensorflow-env\\lib\\site-packages\\uvicorn\\protocols\\http\\h11_impl.py\", line 373, in run_asgi\n",
      "    result = await app(self.scope, self.receive, self.send)\n",
      "  File \"C:\\Users\\hp\\anaconda3\\envs\\tensorflow-env\\lib\\site-packages\\uvicorn\\middleware\\proxy_headers.py\", line 75, in __call__\n",
      "    return await self.app(scope, receive, send)\n",
      "  File \"C:\\Users\\hp\\anaconda3\\envs\\tensorflow-env\\lib\\site-packages\\fastapi\\applications.py\", line 212, in __call__\n",
      "    await super().__call__(scope, receive, send)\n",
      "  File \"C:\\Users\\hp\\anaconda3\\envs\\tensorflow-env\\lib\\site-packages\\starlette\\applications.py\", line 112, in __call__\n",
      "    await self.middleware_stack(scope, receive, send)\n",
      "  File \"C:\\Users\\hp\\anaconda3\\envs\\tensorflow-env\\lib\\site-packages\\starlette\\middleware\\errors.py\", line 181, in __call__\n",
      "    raise exc\n",
      "  File \"C:\\Users\\hp\\anaconda3\\envs\\tensorflow-env\\lib\\site-packages\\starlette\\middleware\\errors.py\", line 159, in __call__\n",
      "    await self.app(scope, receive, _send)\n",
      "  File \"C:\\Users\\hp\\anaconda3\\envs\\tensorflow-env\\lib\\site-packages\\starlette\\middleware\\cors.py\", line 84, in __call__\n",
      "    await self.app(scope, receive, send)\n",
      "  File \"C:\\Users\\hp\\anaconda3\\envs\\tensorflow-env\\lib\\site-packages\\starlette\\exceptions.py\", line 82, in __call__\n",
      "    raise exc\n",
      "  File \"C:\\Users\\hp\\anaconda3\\envs\\tensorflow-env\\lib\\site-packages\\starlette\\exceptions.py\", line 71, in __call__\n",
      "    await self.app(scope, receive, sender)\n",
      "  File \"C:\\Users\\hp\\anaconda3\\envs\\tensorflow-env\\lib\\site-packages\\starlette\\routing.py\", line 656, in __call__\n",
      "    await route.handle(scope, receive, send)\n",
      "  File \"C:\\Users\\hp\\anaconda3\\envs\\tensorflow-env\\lib\\site-packages\\starlette\\routing.py\", line 259, in handle\n",
      "    await self.app(scope, receive, send)\n",
      "  File \"C:\\Users\\hp\\anaconda3\\envs\\tensorflow-env\\lib\\site-packages\\starlette\\routing.py\", line 61, in app\n",
      "    response = await func(request)\n",
      "  File \"C:\\Users\\hp\\anaconda3\\envs\\tensorflow-env\\lib\\site-packages\\fastapi\\routing.py\", line 216, in app\n",
      "    solved_result = await solve_dependencies(\n",
      "  File \"C:\\Users\\hp\\anaconda3\\envs\\tensorflow-env\\lib\\site-packages\\fastapi\\dependencies\\utils.py\", line 529, in solve_dependencies\n",
      "    solved = await run_in_threadpool(call, **sub_values)\n",
      "  File \"C:\\Users\\hp\\anaconda3\\envs\\tensorflow-env\\lib\\site-packages\\starlette\\concurrency.py\", line 39, in run_in_threadpool\n",
      "    return await anyio.to_thread.run_sync(func, *args)\n",
      "AttributeError: module 'anyio' has no attribute 'to_thread'\n",
      "ERROR:    Exception in ASGI application\n",
      "Traceback (most recent call last):\n",
      "  File \"C:\\Users\\hp\\anaconda3\\envs\\tensorflow-env\\lib\\site-packages\\uvicorn\\protocols\\http\\h11_impl.py\", line 373, in run_asgi\n",
      "    result = await app(self.scope, self.receive, self.send)\n",
      "  File \"C:\\Users\\hp\\anaconda3\\envs\\tensorflow-env\\lib\\site-packages\\uvicorn\\middleware\\proxy_headers.py\", line 75, in __call__\n",
      "    return await self.app(scope, receive, send)\n",
      "  File \"C:\\Users\\hp\\anaconda3\\envs\\tensorflow-env\\lib\\site-packages\\fastapi\\applications.py\", line 212, in __call__\n",
      "    await super().__call__(scope, receive, send)\n",
      "  File \"C:\\Users\\hp\\anaconda3\\envs\\tensorflow-env\\lib\\site-packages\\starlette\\applications.py\", line 112, in __call__\n",
      "    await self.middleware_stack(scope, receive, send)\n",
      "  File \"C:\\Users\\hp\\anaconda3\\envs\\tensorflow-env\\lib\\site-packages\\starlette\\middleware\\errors.py\", line 181, in __call__\n",
      "    raise exc\n",
      "  File \"C:\\Users\\hp\\anaconda3\\envs\\tensorflow-env\\lib\\site-packages\\starlette\\middleware\\errors.py\", line 159, in __call__\n",
      "    await self.app(scope, receive, _send)\n",
      "  File \"C:\\Users\\hp\\anaconda3\\envs\\tensorflow-env\\lib\\site-packages\\starlette\\middleware\\cors.py\", line 84, in __call__\n",
      "    await self.app(scope, receive, send)\n",
      "  File \"C:\\Users\\hp\\anaconda3\\envs\\tensorflow-env\\lib\\site-packages\\starlette\\exceptions.py\", line 82, in __call__\n",
      "    raise exc\n",
      "  File \"C:\\Users\\hp\\anaconda3\\envs\\tensorflow-env\\lib\\site-packages\\starlette\\exceptions.py\", line 71, in __call__\n",
      "    await self.app(scope, receive, sender)\n",
      "  File \"C:\\Users\\hp\\anaconda3\\envs\\tensorflow-env\\lib\\site-packages\\starlette\\routing.py\", line 656, in __call__\n",
      "    await route.handle(scope, receive, send)\n",
      "  File \"C:\\Users\\hp\\anaconda3\\envs\\tensorflow-env\\lib\\site-packages\\starlette\\routing.py\", line 259, in handle\n",
      "    await self.app(scope, receive, send)\n",
      "  File \"C:\\Users\\hp\\anaconda3\\envs\\tensorflow-env\\lib\\site-packages\\starlette\\routing.py\", line 61, in app\n",
      "    response = await func(request)\n",
      "  File \"C:\\Users\\hp\\anaconda3\\envs\\tensorflow-env\\lib\\site-packages\\fastapi\\routing.py\", line 216, in app\n",
      "    solved_result = await solve_dependencies(\n",
      "  File \"C:\\Users\\hp\\anaconda3\\envs\\tensorflow-env\\lib\\site-packages\\fastapi\\dependencies\\utils.py\", line 529, in solve_dependencies\n",
      "    solved = await run_in_threadpool(call, **sub_values)\n",
      "  File \"C:\\Users\\hp\\anaconda3\\envs\\tensorflow-env\\lib\\site-packages\\starlette\\concurrency.py\", line 39, in run_in_threadpool\n",
      "    return await anyio.to_thread.run_sync(func, *args)\n",
      "AttributeError: module 'anyio' has no attribute 'to_thread'\n",
      "ERROR:    Exception in ASGI application\n",
      "Traceback (most recent call last):\n",
      "  File \"C:\\Users\\hp\\anaconda3\\envs\\tensorflow-env\\lib\\site-packages\\uvicorn\\protocols\\http\\h11_impl.py\", line 373, in run_asgi\n",
      "    result = await app(self.scope, self.receive, self.send)\n",
      "  File \"C:\\Users\\hp\\anaconda3\\envs\\tensorflow-env\\lib\\site-packages\\uvicorn\\middleware\\proxy_headers.py\", line 75, in __call__\n",
      "    return await self.app(scope, receive, send)\n",
      "  File \"C:\\Users\\hp\\anaconda3\\envs\\tensorflow-env\\lib\\site-packages\\fastapi\\applications.py\", line 212, in __call__\n",
      "    await super().__call__(scope, receive, send)\n",
      "  File \"C:\\Users\\hp\\anaconda3\\envs\\tensorflow-env\\lib\\site-packages\\starlette\\applications.py\", line 112, in __call__\n",
      "    await self.middleware_stack(scope, receive, send)\n",
      "  File \"C:\\Users\\hp\\anaconda3\\envs\\tensorflow-env\\lib\\site-packages\\starlette\\middleware\\errors.py\", line 181, in __call__\n",
      "    raise exc\n",
      "  File \"C:\\Users\\hp\\anaconda3\\envs\\tensorflow-env\\lib\\site-packages\\starlette\\middleware\\errors.py\", line 159, in __call__\n",
      "    await self.app(scope, receive, _send)\n",
      "  File \"C:\\Users\\hp\\anaconda3\\envs\\tensorflow-env\\lib\\site-packages\\starlette\\middleware\\cors.py\", line 84, in __call__\n",
      "    await self.app(scope, receive, send)\n",
      "  File \"C:\\Users\\hp\\anaconda3\\envs\\tensorflow-env\\lib\\site-packages\\starlette\\exceptions.py\", line 82, in __call__\n",
      "    raise exc\n",
      "  File \"C:\\Users\\hp\\anaconda3\\envs\\tensorflow-env\\lib\\site-packages\\starlette\\exceptions.py\", line 71, in __call__\n",
      "    await self.app(scope, receive, sender)\n",
      "  File \"C:\\Users\\hp\\anaconda3\\envs\\tensorflow-env\\lib\\site-packages\\starlette\\routing.py\", line 656, in __call__\n",
      "    await route.handle(scope, receive, send)\n",
      "  File \"C:\\Users\\hp\\anaconda3\\envs\\tensorflow-env\\lib\\site-packages\\starlette\\routing.py\", line 259, in handle\n",
      "    await self.app(scope, receive, send)\n",
      "  File \"C:\\Users\\hp\\anaconda3\\envs\\tensorflow-env\\lib\\site-packages\\starlette\\routing.py\", line 61, in app\n",
      "    response = await func(request)\n",
      "  File \"C:\\Users\\hp\\anaconda3\\envs\\tensorflow-env\\lib\\site-packages\\fastapi\\routing.py\", line 216, in app\n",
      "    solved_result = await solve_dependencies(\n",
      "  File \"C:\\Users\\hp\\anaconda3\\envs\\tensorflow-env\\lib\\site-packages\\fastapi\\dependencies\\utils.py\", line 529, in solve_dependencies\n",
      "    solved = await run_in_threadpool(call, **sub_values)\n",
      "  File \"C:\\Users\\hp\\anaconda3\\envs\\tensorflow-env\\lib\\site-packages\\starlette\\concurrency.py\", line 39, in run_in_threadpool\n",
      "    return await anyio.to_thread.run_sync(func, *args)\n",
      "AttributeError: module 'anyio' has no attribute 'to_thread'\n"
     ]
    },
    {
     "name": "stderr",
     "output_type": "stream",
     "text": [
      "ERROR:    Exception in ASGI application\n",
      "Traceback (most recent call last):\n",
      "  File \"C:\\Users\\hp\\anaconda3\\envs\\tensorflow-env\\lib\\site-packages\\uvicorn\\protocols\\http\\h11_impl.py\", line 373, in run_asgi\n",
      "    result = await app(self.scope, self.receive, self.send)\n",
      "  File \"C:\\Users\\hp\\anaconda3\\envs\\tensorflow-env\\lib\\site-packages\\uvicorn\\middleware\\proxy_headers.py\", line 75, in __call__\n",
      "    return await self.app(scope, receive, send)\n",
      "  File \"C:\\Users\\hp\\anaconda3\\envs\\tensorflow-env\\lib\\site-packages\\fastapi\\applications.py\", line 212, in __call__\n",
      "    await super().__call__(scope, receive, send)\n",
      "  File \"C:\\Users\\hp\\anaconda3\\envs\\tensorflow-env\\lib\\site-packages\\starlette\\applications.py\", line 112, in __call__\n",
      "    await self.middleware_stack(scope, receive, send)\n",
      "  File \"C:\\Users\\hp\\anaconda3\\envs\\tensorflow-env\\lib\\site-packages\\starlette\\middleware\\errors.py\", line 181, in __call__\n",
      "    raise exc\n",
      "  File \"C:\\Users\\hp\\anaconda3\\envs\\tensorflow-env\\lib\\site-packages\\starlette\\middleware\\errors.py\", line 159, in __call__\n",
      "    await self.app(scope, receive, _send)\n",
      "  File \"C:\\Users\\hp\\anaconda3\\envs\\tensorflow-env\\lib\\site-packages\\starlette\\middleware\\cors.py\", line 84, in __call__\n",
      "    await self.app(scope, receive, send)\n",
      "  File \"C:\\Users\\hp\\anaconda3\\envs\\tensorflow-env\\lib\\site-packages\\starlette\\exceptions.py\", line 82, in __call__\n",
      "    raise exc\n",
      "  File \"C:\\Users\\hp\\anaconda3\\envs\\tensorflow-env\\lib\\site-packages\\starlette\\exceptions.py\", line 71, in __call__\n",
      "    await self.app(scope, receive, sender)\n",
      "  File \"C:\\Users\\hp\\anaconda3\\envs\\tensorflow-env\\lib\\site-packages\\starlette\\routing.py\", line 656, in __call__\n",
      "    await route.handle(scope, receive, send)\n",
      "  File \"C:\\Users\\hp\\anaconda3\\envs\\tensorflow-env\\lib\\site-packages\\starlette\\routing.py\", line 259, in handle\n",
      "    await self.app(scope, receive, send)\n",
      "  File \"C:\\Users\\hp\\anaconda3\\envs\\tensorflow-env\\lib\\site-packages\\starlette\\routing.py\", line 61, in app\n",
      "    response = await func(request)\n",
      "  File \"C:\\Users\\hp\\anaconda3\\envs\\tensorflow-env\\lib\\site-packages\\fastapi\\routing.py\", line 216, in app\n",
      "    solved_result = await solve_dependencies(\n",
      "  File \"C:\\Users\\hp\\anaconda3\\envs\\tensorflow-env\\lib\\site-packages\\fastapi\\dependencies\\utils.py\", line 529, in solve_dependencies\n",
      "    solved = await run_in_threadpool(call, **sub_values)\n",
      "  File \"C:\\Users\\hp\\anaconda3\\envs\\tensorflow-env\\lib\\site-packages\\starlette\\concurrency.py\", line 39, in run_in_threadpool\n",
      "    return await anyio.to_thread.run_sync(func, *args)\n",
      "AttributeError: module 'anyio' has no attribute 'to_thread'\n"
     ]
    },
    {
     "ename": "MissingSchema",
     "evalue": "Invalid URL 'None': No scheme supplied. Perhaps you meant http://None?",
     "output_type": "error",
     "traceback": [
      "\u001b[1;31m---------------------------------------------------------------------------\u001b[0m",
      "\u001b[1;31mMissingSchema\u001b[0m                             Traceback (most recent call last)",
      "\u001b[1;32m<ipython-input-29-56708e609279>\u001b[0m in \u001b[0;36m<module>\u001b[1;34m\u001b[0m\n\u001b[0;32m      3\u001b[0m     \u001b[1;32mreturn\u001b[0m \u001b[0mprediction\u001b[0m\u001b[1;33m\u001b[0m\u001b[1;33m\u001b[0m\u001b[0m\n\u001b[0;32m      4\u001b[0m \u001b[1;33m\u001b[0m\u001b[0m\n\u001b[1;32m----> 5\u001b[1;33m iface = gr.Interface(fn=pred, \n\u001b[0m\u001b[0;32m      6\u001b[0m                      \u001b[0minputs\u001b[0m\u001b[1;33m=\u001b[0m\u001b[1;33m[\u001b[0m\u001b[0mgr\u001b[0m\u001b[1;33m.\u001b[0m\u001b[0minputs\u001b[0m\u001b[1;33m.\u001b[0m\u001b[0mSlider\u001b[0m\u001b[1;33m(\u001b[0m\u001b[1;36m0\u001b[0m\u001b[1;33m,\u001b[0m\u001b[1;36m70\u001b[0m\u001b[1;33m)\u001b[0m\u001b[1;33m,\u001b[0m\u001b[1;34m\"checkbox\"\u001b[0m\u001b[1;33m]\u001b[0m\u001b[1;33m,\u001b[0m\u001b[1;33m\u001b[0m\u001b[1;33m\u001b[0m\u001b[0m\n\u001b[0;32m      7\u001b[0m                      outputs=\"text\").launch()\n",
      "\u001b[1;32m~\\anaconda3\\envs\\tensorflow-env\\lib\\site-packages\\gradio\\interface.py\u001b[0m in \u001b[0;36mlaunch\u001b[1;34m(self, inline, inbrowser, share, debug, auth, auth_message, private_endpoint, prevent_thread_lock, show_error, server_name, server_port, show_tips, enable_queue, height, width, encrypt, cache_examples, favicon_path)\u001b[0m\n\u001b[0;32m    728\u001b[0m \u001b[1;33m\u001b[0m\u001b[0m\n\u001b[0;32m    729\u001b[0m                 \u001b[1;32mif\u001b[0m \u001b[0mshare\u001b[0m\u001b[1;33m:\u001b[0m\u001b[1;33m\u001b[0m\u001b[1;33m\u001b[0m\u001b[0m\n\u001b[1;32m--> 730\u001b[1;33m                     \u001b[1;32mwhile\u001b[0m \u001b[1;32mnot\u001b[0m \u001b[0mnetworking\u001b[0m\u001b[1;33m.\u001b[0m\u001b[0murl_ok\u001b[0m\u001b[1;33m(\u001b[0m\u001b[0mshare_url\u001b[0m\u001b[1;33m)\u001b[0m\u001b[1;33m:\u001b[0m\u001b[1;33m\u001b[0m\u001b[1;33m\u001b[0m\u001b[0m\n\u001b[0m\u001b[0;32m    731\u001b[0m                         \u001b[0mtime\u001b[0m\u001b[1;33m.\u001b[0m\u001b[0msleep\u001b[0m\u001b[1;33m(\u001b[0m\u001b[1;36m1\u001b[0m\u001b[1;33m)\u001b[0m\u001b[1;33m\u001b[0m\u001b[1;33m\u001b[0m\u001b[0m\n\u001b[0;32m    732\u001b[0m                     \u001b[0mdisplay\u001b[0m\u001b[1;33m(\u001b[0m\u001b[0mIFrame\u001b[0m\u001b[1;33m(\u001b[0m\u001b[0mshare_url\u001b[0m\u001b[1;33m,\u001b[0m \u001b[0mwidth\u001b[0m\u001b[1;33m=\u001b[0m\u001b[0mself\u001b[0m\u001b[1;33m.\u001b[0m\u001b[0mwidth\u001b[0m\u001b[1;33m,\u001b[0m \u001b[0mheight\u001b[0m\u001b[1;33m=\u001b[0m\u001b[0mself\u001b[0m\u001b[1;33m.\u001b[0m\u001b[0mheight\u001b[0m\u001b[1;33m)\u001b[0m\u001b[1;33m)\u001b[0m\u001b[1;33m\u001b[0m\u001b[1;33m\u001b[0m\u001b[0m\n",
      "\u001b[1;32m~\\anaconda3\\envs\\tensorflow-env\\lib\\site-packages\\gradio\\networking.py\u001b[0m in \u001b[0;36murl_ok\u001b[1;34m(url)\u001b[0m\n\u001b[0;32m    187\u001b[0m         \u001b[1;32mfor\u001b[0m \u001b[0m_\u001b[0m \u001b[1;32min\u001b[0m \u001b[0mrange\u001b[0m\u001b[1;33m(\u001b[0m\u001b[1;36m5\u001b[0m\u001b[1;33m)\u001b[0m\u001b[1;33m:\u001b[0m\u001b[1;33m\u001b[0m\u001b[1;33m\u001b[0m\u001b[0m\n\u001b[0;32m    188\u001b[0m             \u001b[0mtime\u001b[0m\u001b[1;33m.\u001b[0m\u001b[0msleep\u001b[0m\u001b[1;33m(\u001b[0m\u001b[1;36m0.500\u001b[0m\u001b[1;33m)\u001b[0m\u001b[1;33m\u001b[0m\u001b[1;33m\u001b[0m\u001b[0m\n\u001b[1;32m--> 189\u001b[1;33m             \u001b[0mr\u001b[0m \u001b[1;33m=\u001b[0m \u001b[0mrequests\u001b[0m\u001b[1;33m.\u001b[0m\u001b[0mhead\u001b[0m\u001b[1;33m(\u001b[0m\u001b[0murl\u001b[0m\u001b[1;33m,\u001b[0m \u001b[0mtimeout\u001b[0m\u001b[1;33m=\u001b[0m\u001b[1;36m3\u001b[0m\u001b[1;33m)\u001b[0m\u001b[1;33m\u001b[0m\u001b[1;33m\u001b[0m\u001b[0m\n\u001b[0m\u001b[0;32m    190\u001b[0m             \u001b[1;32mif\u001b[0m \u001b[0mr\u001b[0m\u001b[1;33m.\u001b[0m\u001b[0mstatus_code\u001b[0m \u001b[1;32min\u001b[0m \u001b[1;33m(\u001b[0m\u001b[1;36m200\u001b[0m\u001b[1;33m,\u001b[0m \u001b[1;36m401\u001b[0m\u001b[1;33m,\u001b[0m \u001b[1;36m302\u001b[0m\u001b[1;33m)\u001b[0m\u001b[1;33m:\u001b[0m  \u001b[1;31m# 401 or 302 if auth is set\u001b[0m\u001b[1;33m\u001b[0m\u001b[1;33m\u001b[0m\u001b[0m\n\u001b[0;32m    191\u001b[0m                 \u001b[1;32mreturn\u001b[0m \u001b[1;32mTrue\u001b[0m\u001b[1;33m\u001b[0m\u001b[1;33m\u001b[0m\u001b[0m\n",
      "\u001b[1;32m~\\anaconda3\\envs\\tensorflow-env\\lib\\site-packages\\requests\\api.py\u001b[0m in \u001b[0;36mhead\u001b[1;34m(url, **kwargs)\u001b[0m\n\u001b[0;32m    100\u001b[0m \u001b[1;33m\u001b[0m\u001b[0m\n\u001b[0;32m    101\u001b[0m     \u001b[0mkwargs\u001b[0m\u001b[1;33m.\u001b[0m\u001b[0msetdefault\u001b[0m\u001b[1;33m(\u001b[0m\u001b[1;34m'allow_redirects'\u001b[0m\u001b[1;33m,\u001b[0m \u001b[1;32mFalse\u001b[0m\u001b[1;33m)\u001b[0m\u001b[1;33m\u001b[0m\u001b[1;33m\u001b[0m\u001b[0m\n\u001b[1;32m--> 102\u001b[1;33m     \u001b[1;32mreturn\u001b[0m \u001b[0mrequest\u001b[0m\u001b[1;33m(\u001b[0m\u001b[1;34m'head'\u001b[0m\u001b[1;33m,\u001b[0m \u001b[0murl\u001b[0m\u001b[1;33m,\u001b[0m \u001b[1;33m**\u001b[0m\u001b[0mkwargs\u001b[0m\u001b[1;33m)\u001b[0m\u001b[1;33m\u001b[0m\u001b[1;33m\u001b[0m\u001b[0m\n\u001b[0m\u001b[0;32m    103\u001b[0m \u001b[1;33m\u001b[0m\u001b[0m\n\u001b[0;32m    104\u001b[0m \u001b[1;33m\u001b[0m\u001b[0m\n",
      "\u001b[1;32m~\\anaconda3\\envs\\tensorflow-env\\lib\\site-packages\\requests\\api.py\u001b[0m in \u001b[0;36mrequest\u001b[1;34m(method, url, **kwargs)\u001b[0m\n\u001b[0;32m     59\u001b[0m     \u001b[1;31m# cases, and look like a memory leak in others.\u001b[0m\u001b[1;33m\u001b[0m\u001b[1;33m\u001b[0m\u001b[1;33m\u001b[0m\u001b[0m\n\u001b[0;32m     60\u001b[0m     \u001b[1;32mwith\u001b[0m \u001b[0msessions\u001b[0m\u001b[1;33m.\u001b[0m\u001b[0mSession\u001b[0m\u001b[1;33m(\u001b[0m\u001b[1;33m)\u001b[0m \u001b[1;32mas\u001b[0m \u001b[0msession\u001b[0m\u001b[1;33m:\u001b[0m\u001b[1;33m\u001b[0m\u001b[1;33m\u001b[0m\u001b[0m\n\u001b[1;32m---> 61\u001b[1;33m         \u001b[1;32mreturn\u001b[0m \u001b[0msession\u001b[0m\u001b[1;33m.\u001b[0m\u001b[0mrequest\u001b[0m\u001b[1;33m(\u001b[0m\u001b[0mmethod\u001b[0m\u001b[1;33m=\u001b[0m\u001b[0mmethod\u001b[0m\u001b[1;33m,\u001b[0m \u001b[0murl\u001b[0m\u001b[1;33m=\u001b[0m\u001b[0murl\u001b[0m\u001b[1;33m,\u001b[0m \u001b[1;33m**\u001b[0m\u001b[0mkwargs\u001b[0m\u001b[1;33m)\u001b[0m\u001b[1;33m\u001b[0m\u001b[1;33m\u001b[0m\u001b[0m\n\u001b[0m\u001b[0;32m     62\u001b[0m \u001b[1;33m\u001b[0m\u001b[0m\n\u001b[0;32m     63\u001b[0m \u001b[1;33m\u001b[0m\u001b[0m\n",
      "\u001b[1;32m~\\anaconda3\\envs\\tensorflow-env\\lib\\site-packages\\requests\\sessions.py\u001b[0m in \u001b[0;36mrequest\u001b[1;34m(self, method, url, params, data, headers, cookies, files, auth, timeout, allow_redirects, proxies, hooks, stream, verify, cert, json)\u001b[0m\n\u001b[0;32m    513\u001b[0m             \u001b[0mhooks\u001b[0m\u001b[1;33m=\u001b[0m\u001b[0mhooks\u001b[0m\u001b[1;33m,\u001b[0m\u001b[1;33m\u001b[0m\u001b[1;33m\u001b[0m\u001b[0m\n\u001b[0;32m    514\u001b[0m         )\n\u001b[1;32m--> 515\u001b[1;33m         \u001b[0mprep\u001b[0m \u001b[1;33m=\u001b[0m \u001b[0mself\u001b[0m\u001b[1;33m.\u001b[0m\u001b[0mprepare_request\u001b[0m\u001b[1;33m(\u001b[0m\u001b[0mreq\u001b[0m\u001b[1;33m)\u001b[0m\u001b[1;33m\u001b[0m\u001b[1;33m\u001b[0m\u001b[0m\n\u001b[0m\u001b[0;32m    516\u001b[0m \u001b[1;33m\u001b[0m\u001b[0m\n\u001b[0;32m    517\u001b[0m         \u001b[0mproxies\u001b[0m \u001b[1;33m=\u001b[0m \u001b[0mproxies\u001b[0m \u001b[1;32mor\u001b[0m \u001b[1;33m{\u001b[0m\u001b[1;33m}\u001b[0m\u001b[1;33m\u001b[0m\u001b[1;33m\u001b[0m\u001b[0m\n",
      "\u001b[1;32m~\\anaconda3\\envs\\tensorflow-env\\lib\\site-packages\\requests\\sessions.py\u001b[0m in \u001b[0;36mprepare_request\u001b[1;34m(self, request)\u001b[0m\n\u001b[0;32m    441\u001b[0m \u001b[1;33m\u001b[0m\u001b[0m\n\u001b[0;32m    442\u001b[0m         \u001b[0mp\u001b[0m \u001b[1;33m=\u001b[0m \u001b[0mPreparedRequest\u001b[0m\u001b[1;33m(\u001b[0m\u001b[1;33m)\u001b[0m\u001b[1;33m\u001b[0m\u001b[1;33m\u001b[0m\u001b[0m\n\u001b[1;32m--> 443\u001b[1;33m         p.prepare(\n\u001b[0m\u001b[0;32m    444\u001b[0m             \u001b[0mmethod\u001b[0m\u001b[1;33m=\u001b[0m\u001b[0mrequest\u001b[0m\u001b[1;33m.\u001b[0m\u001b[0mmethod\u001b[0m\u001b[1;33m.\u001b[0m\u001b[0mupper\u001b[0m\u001b[1;33m(\u001b[0m\u001b[1;33m)\u001b[0m\u001b[1;33m,\u001b[0m\u001b[1;33m\u001b[0m\u001b[1;33m\u001b[0m\u001b[0m\n\u001b[0;32m    445\u001b[0m             \u001b[0murl\u001b[0m\u001b[1;33m=\u001b[0m\u001b[0mrequest\u001b[0m\u001b[1;33m.\u001b[0m\u001b[0murl\u001b[0m\u001b[1;33m,\u001b[0m\u001b[1;33m\u001b[0m\u001b[1;33m\u001b[0m\u001b[0m\n",
      "\u001b[1;32m~\\anaconda3\\envs\\tensorflow-env\\lib\\site-packages\\requests\\models.py\u001b[0m in \u001b[0;36mprepare\u001b[1;34m(self, method, url, headers, files, data, params, auth, cookies, hooks, json)\u001b[0m\n\u001b[0;32m    316\u001b[0m \u001b[1;33m\u001b[0m\u001b[0m\n\u001b[0;32m    317\u001b[0m         \u001b[0mself\u001b[0m\u001b[1;33m.\u001b[0m\u001b[0mprepare_method\u001b[0m\u001b[1;33m(\u001b[0m\u001b[0mmethod\u001b[0m\u001b[1;33m)\u001b[0m\u001b[1;33m\u001b[0m\u001b[1;33m\u001b[0m\u001b[0m\n\u001b[1;32m--> 318\u001b[1;33m         \u001b[0mself\u001b[0m\u001b[1;33m.\u001b[0m\u001b[0mprepare_url\u001b[0m\u001b[1;33m(\u001b[0m\u001b[0murl\u001b[0m\u001b[1;33m,\u001b[0m \u001b[0mparams\u001b[0m\u001b[1;33m)\u001b[0m\u001b[1;33m\u001b[0m\u001b[1;33m\u001b[0m\u001b[0m\n\u001b[0m\u001b[0;32m    319\u001b[0m         \u001b[0mself\u001b[0m\u001b[1;33m.\u001b[0m\u001b[0mprepare_headers\u001b[0m\u001b[1;33m(\u001b[0m\u001b[0mheaders\u001b[0m\u001b[1;33m)\u001b[0m\u001b[1;33m\u001b[0m\u001b[1;33m\u001b[0m\u001b[0m\n\u001b[0;32m    320\u001b[0m         \u001b[0mself\u001b[0m\u001b[1;33m.\u001b[0m\u001b[0mprepare_cookies\u001b[0m\u001b[1;33m(\u001b[0m\u001b[0mcookies\u001b[0m\u001b[1;33m)\u001b[0m\u001b[1;33m\u001b[0m\u001b[1;33m\u001b[0m\u001b[0m\n",
      "\u001b[1;32m~\\anaconda3\\envs\\tensorflow-env\\lib\\site-packages\\requests\\models.py\u001b[0m in \u001b[0;36mprepare_url\u001b[1;34m(self, url, params)\u001b[0m\n\u001b[0;32m    390\u001b[0m             \u001b[0merror\u001b[0m \u001b[1;33m=\u001b[0m \u001b[0merror\u001b[0m\u001b[1;33m.\u001b[0m\u001b[0mformat\u001b[0m\u001b[1;33m(\u001b[0m\u001b[0mto_native_string\u001b[0m\u001b[1;33m(\u001b[0m\u001b[0murl\u001b[0m\u001b[1;33m,\u001b[0m \u001b[1;34m'utf8'\u001b[0m\u001b[1;33m)\u001b[0m\u001b[1;33m)\u001b[0m\u001b[1;33m\u001b[0m\u001b[1;33m\u001b[0m\u001b[0m\n\u001b[0;32m    391\u001b[0m \u001b[1;33m\u001b[0m\u001b[0m\n\u001b[1;32m--> 392\u001b[1;33m             \u001b[1;32mraise\u001b[0m \u001b[0mMissingSchema\u001b[0m\u001b[1;33m(\u001b[0m\u001b[0merror\u001b[0m\u001b[1;33m)\u001b[0m\u001b[1;33m\u001b[0m\u001b[1;33m\u001b[0m\u001b[0m\n\u001b[0m\u001b[0;32m    393\u001b[0m \u001b[1;33m\u001b[0m\u001b[0m\n\u001b[0;32m    394\u001b[0m         \u001b[1;32mif\u001b[0m \u001b[1;32mnot\u001b[0m \u001b[0mhost\u001b[0m\u001b[1;33m:\u001b[0m\u001b[1;33m\u001b[0m\u001b[1;33m\u001b[0m\u001b[0m\n",
      "\u001b[1;31mMissingSchema\u001b[0m: Invalid URL 'None': No scheme supplied. Perhaps you meant http://None?"
     ]
    }
   ],
   "source": [
    "def pred(age,gender):\n",
    "    prediction=model.predict([[age,gender]])\n",
    "    return prediction\n",
    "    \n",
    "iface = gr.Interface(fn=pred, \n",
    "                     inputs=[gr.inputs.Slider(0,70),\"checkbox\"],\n",
    "                     outputs=\"text\").launch()\n",
    "    "
   ]
  },
  {
   "cell_type": "code",
   "execution_count": null,
   "id": "3b58b007",
   "metadata": {},
   "outputs": [],
   "source": []
  },
  {
   "cell_type": "code",
   "execution_count": null,
   "id": "c27a21ca",
   "metadata": {},
   "outputs": [],
   "source": []
  }
 ],
 "metadata": {
  "kernelspec": {
   "display_name": "Python 3",
   "language": "python",
   "name": "python3"
  },
  "language_info": {
   "codemirror_mode": {
    "name": "ipython",
    "version": 3
   },
   "file_extension": ".py",
   "mimetype": "text/x-python",
   "name": "python",
   "nbconvert_exporter": "python",
   "pygments_lexer": "ipython3",
   "version": "3.8.12"
  }
 },
 "nbformat": 4,
 "nbformat_minor": 5
}
